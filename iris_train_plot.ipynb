{
  "nbformat": 4,
  "nbformat_minor": 0,
  "metadata": {
    "colab": {
      "name": "iris_train_plot",
      "provenance": [],
      "collapsed_sections": [],
      "include_colab_link": true
    },
    "kernelspec": {
      "name": "python3",
      "display_name": "Python 3"
    }
  },
  "cells": [
    {
      "cell_type": "markdown",
      "metadata": {
        "id": "view-in-github",
        "colab_type": "text"
      },
      "source": [
        "<a href=\"https://colab.research.google.com/github/IamSAL/DataSci/blob/master/iris_train_plot.ipynb\" target=\"_parent\"><img src=\"https://colab.research.google.com/assets/colab-badge.svg\" alt=\"Open In Colab\"/></a>"
      ]
    },
    {
      "cell_type": "markdown",
      "metadata": {
        "id": "Zh34x-VwuGT4",
        "colab_type": "text"
      },
      "source": [
        "\n",
        "**Train Test Split**"
      ]
    },
    {
      "cell_type": "code",
      "metadata": {
        "id": "bj9FQViuuNhU",
        "colab_type": "code",
        "outputId": "cd6d0ce5-96b5-4e4a-c5b9-40363030f9b5",
        "colab": {
          "base_uri": "https://localhost:8080/",
          "height": 51
        }
      },
      "source": [
        "import warnings\n",
        "\n",
        "import numpy as np\n",
        "from sklearn.datasets import load_iris\n",
        "from sklearn.linear_model import LogisticRegression\n",
        "from sklearn.metrics import accuracy_score\n",
        "from sklearn.model_selection import GridSearchCV\n",
        "from sklearn.model_selection import train_test_split\n",
        "from sklearn.neighbors import KNeighborsClassifier\n",
        "\n",
        "warnings.filterwarnings(\"ignore\", category=DeprecationWarning)\n",
        "\n",
        "iris = load_iris()\n",
        "\n",
        "X = iris.data\n",
        "y = iris.target\n",
        "\n",
        "X_train, X_test, y_train, y_test = train_test_split(X, y, test_size=0.3, random_state=3)\n",
        "\n",
        "# logistic_reg\n",
        "lgr = LogisticRegression(solver='liblinear', multi_class='auto')\n",
        "lgr.fit(X_train, y_train)\n",
        "y_pred = lgr.predict(X_test)\n",
        "score_lr = accuracy_score(y_test, y_pred)\n",
        "\n",
        "# KNN\n",
        "knn2 = KNeighborsClassifier()\n",
        "param_grid = {'n_neighbors': np.arange(1, 50)}\n",
        "knn_gscv = GridSearchCV(knn2, param_grid, cv=5)\n",
        "knn_gscv.fit(X_train, y_train)\n",
        "best_n = knn_gscv.best_params_['n_neighbors']\n",
        "\n",
        "\n",
        "knn = KNeighborsClassifier(n_neighbors=best_n)\n",
        "knn.fit(X_train, y_train)\n",
        "y_pred_knn = knn.predict(X_test)\n",
        "score_knn = accuracy_score(y_test, y_pred_knn)\n",
        "\n",
        "\n",
        "print(\"logistic_regression:\", score_lr)\n",
        "print(\"KNN:\", score_knn)\n"
      ],
      "execution_count": 2,
      "outputs": [
        {
          "output_type": "stream",
          "text": [
            "logistic_regression: 1.0\n",
            "KNN: 0.9777777777777777\n"
          ],
          "name": "stdout"
        }
      ]
    },
    {
      "cell_type": "markdown",
      "metadata": {
        "id": "pYVBJUDG5tpd",
        "colab_type": "text"
      },
      "source": [
        "**KNN (n = 1 to 30) -> can you find, which ‘n’ provides the highest accuracy?**\n"
      ]
    },
    {
      "cell_type": "code",
      "metadata": {
        "id": "m43TPYhv5r82",
        "colab_type": "code",
        "outputId": "ea62fa47-83e0-4e47-e064-29ab0b366666",
        "colab": {
          "base_uri": "https://localhost:8080/",
          "height": 34
        }
      },
      "source": [
        "current_score=0\n",
        "high_score=0;\n",
        "high_n=0\n",
        "scores=[]\n",
        "\n",
        "for i in range (1,31):\n",
        "  knn = KNeighborsClassifier(n_neighbors=i)\n",
        "  knn.fit(X_train, y_train)\n",
        "  y_pred_knn = knn.predict(X_test)\n",
        "  score_knn = accuracy_score(y_test, y_pred_knn)\n",
        "  scores.append(score_knn)\n",
        "  if score_knn>current_score:\n",
        "    high_score=score_knn\n",
        "    high_n=i\n",
        "    current_score=high_score\n",
        "\n",
        "  \n",
        "print(\"Highest score:\",high_score,\"while n:\",high_n)  \n",
        "\n",
        "  "
      ],
      "execution_count": 8,
      "outputs": [
        {
          "output_type": "stream",
          "text": [
            "Highest score: 0.9777777777777777 while n: 9\n"
          ],
          "name": "stdout"
        }
      ]
    },
    {
      "cell_type": "markdown",
      "metadata": {
        "id": "_EyLcH_0GKax",
        "colab_type": "text"
      },
      "source": [
        "**Can you plot a simple graph, where K values (1-30) form your x-axis and accuracy score 0-1 form your y-axis?**"
      ]
    },
    {
      "cell_type": "code",
      "metadata": {
        "id": "gXHvMeQ7EFEr",
        "colab_type": "code",
        "outputId": "2f1e3754-4ae3-4b19-fda5-a3d7788b10ae",
        "colab": {
          "base_uri": "https://localhost:8080/",
          "height": 297
        }
      },
      "source": [
        "import matplotlib.pyplot as plt\n",
        "plt.plot(np.arange(1,31),scores,color='orange', marker='o', linestyle='dashed',linewidth=1, markersize=5)\n",
        "plt.xlabel(\"n_neighbors\")\n",
        "plt.ylabel(\"accuracy\")\n",
        "\n",
        "plt.axis([7, 15, 0, 1.5])\n",
        "plt.show"
      ],
      "execution_count": 10,
      "outputs": [
        {
          "output_type": "execute_result",
          "data": {
            "text/plain": [
              "<function matplotlib.pyplot.show>"
            ]
          },
          "metadata": {
            "tags": []
          },
          "execution_count": 10
        },
        {
          "output_type": "display_data",
          "data": {
            "image/png": "[encoded data removed]",
            "text/plain": [
              "<Figure size 432x288 with 1 Axes>"
            ]
          },
          "metadata": {
            "tags": []
          }
        }
      ]
    },
    {
      "cell_type": "markdown",
      "metadata": {
        "id": "G_xfiHny_I0f",
        "colab_type": "text"
      },
      "source": [
        "\n",
        "\n",
        "> Indented block\n",
        "\n"
      ]
    },
    {
      "cell_type": "markdown",
      "metadata": {
        "id": "vNY-cvq3-YDS",
        "colab_type": "text"
      },
      "source": [
        "**Cross Validation:Cross_val_score**"
      ]
    },
    {
      "cell_type": "code",
      "metadata": {
        "id": "VMI3ZYZj-fBY",
        "colab_type": "code",
        "colab": {
          "base_uri": "https://localhost:8080/",
          "height": 280
        },
        "outputId": "7409fab4-5001-4e74-9145-0b77e65e8c4d"
      },
      "source": [
        "from sklearn.model_selection import cross_val_score\n",
        "#testing knn with 1<n_neighbours<=45\n",
        "score_knnX=[]\n",
        "for i in range(1,45):\n",
        "\n",
        "  knnX=KNeighborsClassifier(n_neighbors=i)\n",
        "  cross_score_knn=cross_val_score(knnX, X, y, cv=10, scoring='accuracy')\n",
        "  score_knnX.append(cross_score_knn.mean())\n",
        "\n",
        "plt.plot(np.arange(1,45),score_knnX)\n",
        "plt.xlabel(\"n_neighbors\")\n",
        "plt.ylabel(\"mean_cross_accuracy\")\n",
        "\n",
        "plt.show()  "
      ],
      "execution_count": 7,
      "outputs": [
        {
          "output_type": "display_data",
          "data": {
            "image/png": "[encoded data removed]",
            "text/plain": [
              "<Figure size 432x288 with 1 Axes>"
            ]
          },
          "metadata": {
            "tags": []
          }
        }
      ]
    },
    {
      "cell_type": "markdown",
      "metadata": {
        "id": "yDeYWy9Ytpw2",
        "colab_type": "text"
      },
      "source": [
        "**Cross Validation: K-Fold**\n"
      ]
    },
    {
      "cell_type": "markdown",
      "metadata": {
        "id": "SUOgY2-t20mt",
        "colab_type": "text"
      },
      "source": [
        " ![alt text](https://scikit-learn.org/stable/_images/grid_search_cross_validation.png) \n",
        "\n",
        "\n",
        "\n"
      ]
    },
    {
      "cell_type": "code",
      "metadata": {
        "id": "8CyON6V2AB_j",
        "colab_type": "code",
        "colab": {}
      },
      "source": [
        ""
      ],
      "execution_count": 0,
      "outputs": []
    }
  ]
}