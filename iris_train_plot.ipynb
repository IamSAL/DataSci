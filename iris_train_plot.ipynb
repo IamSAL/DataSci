{
  "nbformat": 4,
  "nbformat_minor": 0,
  "metadata": {
    "colab": {
      "name": "iris_train_plot",
      "provenance": [],
      "collapsed_sections": [],
      "authorship_tag": "ABX9TyNl23+PjjjSEfa50PKR4GZD",
      "include_colab_link": true
    },
    "kernelspec": {
      "name": "python3",
      "display_name": "Python 3"
    }
  },
  "cells": [
    {
      "cell_type": "markdown",
      "metadata": {
        "id": "view-in-github",
        "colab_type": "text"
      },
      "source": [
        "<a href=\"https://colab.research.google.com/github/IamSAL/DataSci/blob/master/iris_train_plot.ipynb\" target=\"_parent\"><img src=\"https://colab.research.google.com/assets/colab-badge.svg\" alt=\"Open In Colab\"/></a>"
      ]
    },
    {
      "cell_type": "code",
      "metadata": {
        "id": "uZN-U-YNt_fO",
        "colab_type": "code",
        "colab": {}
      },
      "source": [
        ""
      ],
      "execution_count": 0,
      "outputs": []
    },
    {
      "cell_type": "markdown",
      "metadata": {
        "id": "Zh34x-VwuGT4",
        "colab_type": "text"
      },
      "source": [
        "\n",
        "**Train Test Split**"
      ]
    },
    {
      "cell_type": "code",
      "metadata": {
        "id": "bj9FQViuuNhU",
        "colab_type": "code",
        "outputId": "663565cb-7f67-481e-b410-3c05293a3083",
        "colab": {
          "base_uri": "https://localhost:8080/",
          "height": 51
        }
      },
      "source": [
        "import warnings\n",
        "\n",
        "import numpy as np\n",
        "from sklearn.datasets import load_iris\n",
        "from sklearn.linear_model import LogisticRegression\n",
        "from sklearn.metrics import accuracy_score\n",
        "from sklearn.model_selection import GridSearchCV\n",
        "from sklearn.model_selection import train_test_split\n",
        "from sklearn.neighbors import KNeighborsClassifier\n",
        "\n",
        "warnings.filterwarnings(\"ignore\", category=DeprecationWarning)\n",
        "\n",
        "iris = load_iris()\n",
        "\n",
        "X = iris.data\n",
        "y = iris.target\n",
        "\n",
        "X_train, X_test, y_train, y_test = train_test_split(X, y, test_size=0.3, random_state=3)\n",
        "\n",
        "# logistic_reg\n",
        "lgr = LogisticRegression(solver='liblinear', multi_class='auto')\n",
        "lgr.fit(X_train, y_train)\n",
        "y_pred = lgr.predict(X_test)\n",
        "score_lr = accuracy_score(y_test, y_pred)\n",
        "\n",
        "# KNN\n",
        "knn2 = KNeighborsClassifier()\n",
        "param_grid = {'n_neighbors': np.arange(1, 50)}\n",
        "knn_gscv = GridSearchCV(knn2, param_grid, cv=5)\n",
        "knn_gscv.fit(X_train, y_train)\n",
        "best_n = knn_gscv.best_params_['n_neighbors']\n",
        "\n",
        "\n",
        "knn = KNeighborsClassifier(n_neighbors=best_n)\n",
        "knn.fit(X_train, y_train)\n",
        "y_pred_knn = knn.predict(X_test)\n",
        "score_knn = accuracy_score(y_test, y_pred_knn)\n",
        "\n",
        "\n",
        "print(\"logistic_regression:\", score_lr)\n",
        "print(\"KNN:\", score_knn)\n"
      ],
      "execution_count": 0,
      "outputs": [
        {
          "output_type": "stream",
          "text": [
            "logistic_regression: 1.0\n",
            "KNN: 0.9777777777777777\n"
          ],
          "name": "stdout"
        }
      ]
    },
    {
      "cell_type": "markdown",
      "metadata": {
        "id": "pYVBJUDG5tpd",
        "colab_type": "text"
      },
      "source": [
        "**KNN (n = 1 to 30) -> can you find, which ‘n’ provides the highest accuracy?**\n"
      ]
    },
    {
      "cell_type": "code",
      "metadata": {
        "id": "m43TPYhv5r82",
        "colab_type": "code",
        "outputId": "a7b5642a-e542-4f1a-bd14-57cbc2e05378",
        "colab": {
          "base_uri": "https://localhost:8080/",
          "height": 544
        }
      },
      "source": [
        "current_score=0\n",
        "high_score=0;\n",
        "high_n=0\n",
        "scores=[]\n",
        "\n",
        "for i in range (1,31):\n",
        "  knn = KNeighborsClassifier(n_neighbors=i)\n",
        "  knn.fit(X_train, y_train)\n",
        "  y_pred_knn = knn.predict(X_test)\n",
        "  score_knn = accuracy_score(y_test, y_pred_knn)\n",
        "  scores.append(score_knn)\n",
        "  if score_knn>current_score:\n",
        "    high_score=score_knn\n",
        "    high_n=i\n",
        "    current_score=high_score\n",
        "\n",
        "  print(\"n:\",i,\"Accuracy:\",score_knn)\n",
        "print(\"Highest score:\",high_score,\"while n:\",high_n)  \n",
        "\n",
        "  "
      ],
      "execution_count": 0,
      "outputs": [
        {
          "output_type": "stream",
          "text": [
            "n: 1 Accuracy: 0.9555555555555556\n",
            "n: 2 Accuracy: 0.9555555555555556\n",
            "n: 3 Accuracy: 0.9555555555555556\n",
            "n: 4 Accuracy: 0.9555555555555556\n",
            "n: 5 Accuracy: 0.9555555555555556\n",
            "n: 6 Accuracy: 0.9555555555555556\n",
            "n: 7 Accuracy: 0.9555555555555556\n",
            "n: 8 Accuracy: 0.9555555555555556\n",
            "n: 9 Accuracy: 0.9777777777777777\n",
            "n: 10 Accuracy: 0.9555555555555556\n",
            "n: 11 Accuracy: 0.9555555555555556\n",
            "n: 12 Accuracy: 0.9333333333333333\n",
            "n: 13 Accuracy: 0.9777777777777777\n",
            "n: 14 Accuracy: 0.9555555555555556\n",
            "n: 15 Accuracy: 0.9555555555555556\n",
            "n: 16 Accuracy: 0.9777777777777777\n",
            "n: 17 Accuracy: 0.9777777777777777\n",
            "n: 18 Accuracy: 0.9555555555555556\n",
            "n: 19 Accuracy: 0.9777777777777777\n",
            "n: 20 Accuracy: 0.9333333333333333\n",
            "n: 21 Accuracy: 0.9555555555555556\n",
            "n: 22 Accuracy: 0.9333333333333333\n",
            "n: 23 Accuracy: 0.9555555555555556\n",
            "n: 24 Accuracy: 0.9555555555555556\n",
            "n: 25 Accuracy: 0.9555555555555556\n",
            "n: 26 Accuracy: 0.9777777777777777\n",
            "n: 27 Accuracy: 0.9555555555555556\n",
            "n: 28 Accuracy: 0.9333333333333333\n",
            "n: 29 Accuracy: 0.9333333333333333\n",
            "n: 30 Accuracy: 0.9555555555555556\n",
            "Highest score: 0.9777777777777777 while n: 9\n"
          ],
          "name": "stdout"
        }
      ]
    },
    {
      "cell_type": "markdown",
      "metadata": {
        "id": "_EyLcH_0GKax",
        "colab_type": "text"
      },
      "source": [
        "**Can you plot a simple graph, where K values (1-30) form your x-axis and accuracy score 0-1 form your y-axis?**"
      ]
    },
    {
      "cell_type": "code",
      "metadata": {
        "id": "gXHvMeQ7EFEr",
        "colab_type": "code",
        "outputId": "ba4ed737-bf9d-4d0d-f070-d370d3ce2f16",
        "colab": {
          "base_uri": "https://localhost:8080/",
          "height": 297
        }
      },
      "source": [
        "import matplotlib.pyplot as plt\n",
        "plt.plot(np.arange(1,31),scores,color='orange', marker='o', linestyle='dashed',linewidth=2, markersize=12)\n",
        "plt.xlabel(\"n_neighbors\")\n",
        "plt.ylabel(\"accuracy\")\n",
        "\n",
        "plt.axis([7, 15, 0, 1.5])\n",
        "plt.show"
      ],
      "execution_count": 0,
      "outputs": [
        {
          "output_type": "execute_result",
          "data": {
            "text/plain": [
              "<function matplotlib.pyplot.show>"
            ]
          },
          "metadata": {
            "tags": []
          },
          "execution_count": 95
        },
        {
          "output_type": "display_data",
          "data": {
            "image/png": "[encoded data removed]",
            "text/plain": [
              "<Figure size 432x288 with 1 Axes>"
            ]
          },
          "metadata": {
            "tags": []
          }
        }
      ]
    }
  ]
}